{
 "cells": [
  {
   "cell_type": "code",
   "execution_count": 1,
   "metadata": {},
   "outputs": [],
   "source": [
    "import pandas as pd \n",
    "import seaborn as sns\n",
    "df = pd.read_csv('dulieuxettuyendaihoc.csv',\n",
    "                 header=0,delimiter=','\n",
    "                 ,encoding='utf-8')\n",
    "df = df[['GT','DT','KV','KT','M1',\n",
    "         'M2','M3',\n",
    "         'NGAYTHI','DINHHUONGNGHENGHIEP']]"
   ]
  },
  {
   "cell_type": "markdown",
   "metadata": {},
   "source": [
    "# DATA MANIPULATION"
   ]
  },
  {
   "cell_type": "markdown",
   "metadata": {},
   "source": [
    "GT (Giới tính) có bao nhiêu giá trị khác nhau và phân phối của chúng là gì?\n",
    "\n",
    "Gợi ý: Sử dụng sns.countplot để đếm và vẽ biểu đồ.\n",
    "Cột nào trong dữ liệu ban đầu chứa nhiều giá trị thiếu nhất?\n",
    "\n",
    "Gợi ý: Dựa vào biểu đồ heatmap để trả lời.\n",
    "Sau khi xử lý dữ liệu thiếu, giá trị mặc định được điền vào cột DT là gì?\n",
    "\n",
    "Gợi ý: Tìm hiểu mã df['DT'].fillna().\n",
    "Cột XL (xếp loại) được phân loại thành mấy nhóm? Các nhóm này là gì?\n",
    "\n",
    "Gợi ý: Quan sát các điều kiện gán giá trị cho XL."
   ]
  },
  {
   "cell_type": "code",
   "execution_count": 4,
   "metadata": {},
   "outputs": [
    {
     "data": {
      "text/plain": [
       "<matplotlib.axes._subplots.AxesSubplot at 0x21701b95b70>"
      ]
     },
     "execution_count": 4,
     "metadata": {},
     "output_type": "execute_result"
    },
    {
     "data": {
      "image/png": "[encoded data removed]",
      "text/plain": [
       "<Figure size 432x288 with 1 Axes>"
      ]
     },
     "metadata": {
      "needs_background": "light"
     },
     "output_type": "display_data"
    }
   ],
   "source": [
    "sns.countplot(x='GT', data=df)"
   ]
  },
  {
   "cell_type": "code",
   "execution_count": null,
   "metadata": {},
   "outputs": [],
   "source": []
  }
 ],
 "metadata": {
  "kernelspec": {
   "display_name": "Python 3",
   "language": "python",
   "name": "python3"
  },
  "language_info": {
   "codemirror_mode": {
    "name": "ipython",
    "version": 3
   },
   "file_extension": ".py",
   "mimetype": "text/x-python",
   "name": "python",
   "nbconvert_exporter": "python",
   "pygments_lexer": "ipython3",
   "version": "3.7.1"
  }
 },
 "nbformat": 4,
 "nbformat_minor": 2
}
