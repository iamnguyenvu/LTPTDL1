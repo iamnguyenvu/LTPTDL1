{
 "cells": [
  {
   "cell_type": "code",
   "execution_count": 2,
   "metadata": {},
   "outputs": [
    {
     "data": {
      "text/html": [
       "<div>\n",
       "<style scoped>\n",
       "    .dataframe tbody tr th:only-of-type {\n",
       "        vertical-align: middle;\n",
       "    }\n",
       "\n",
       "    .dataframe tbody tr th {\n",
       "        vertical-align: top;\n",
       "    }\n",
       "\n",
       "    .dataframe thead th {\n",
       "        text-align: right;\n",
       "    }\n",
       "</style>\n",
       "<table border=\"1\" class=\"dataframe\">\n",
       "  <thead>\n",
       "    <tr style=\"text-align: right;\">\n",
       "      <th></th>\n",
       "      <th>MSSV</th>\n",
       "      <th>GT</th>\n",
       "      <th>DT</th>\n",
       "      <th>KV</th>\n",
       "      <th>M1</th>\n",
       "      <th>M2</th>\n",
       "      <th>M3</th>\n",
       "      <th>KT</th>\n",
       "      <th>NGAYTHI</th>\n",
       "      <th>DINHHUONGNGHENGHIEP</th>\n",
       "    </tr>\n",
       "  </thead>\n",
       "  <tbody>\n",
       "    <tr>\n",
       "      <th>0</th>\n",
       "      <td>SV001</td>\n",
       "      <td>F</td>\n",
       "      <td>NaN</td>\n",
       "      <td>2NT</td>\n",
       "      <td>3.25</td>\n",
       "      <td>3.25</td>\n",
       "      <td>4.50</td>\n",
       "      <td>A1</td>\n",
       "      <td>12/7/2018</td>\n",
       "      <td>No</td>\n",
       "    </tr>\n",
       "    <tr>\n",
       "      <th>1</th>\n",
       "      <td>SV002</td>\n",
       "      <td>M</td>\n",
       "      <td>NaN</td>\n",
       "      <td>1</td>\n",
       "      <td>6.00</td>\n",
       "      <td>4.00</td>\n",
       "      <td>3.50</td>\n",
       "      <td>C</td>\n",
       "      <td>12/7/2018</td>\n",
       "      <td>Yes</td>\n",
       "    </tr>\n",
       "    <tr>\n",
       "      <th>2</th>\n",
       "      <td>SV003</td>\n",
       "      <td>M</td>\n",
       "      <td>NaN</td>\n",
       "      <td>1</td>\n",
       "      <td>5.00</td>\n",
       "      <td>6.75</td>\n",
       "      <td>4.00</td>\n",
       "      <td>C</td>\n",
       "      <td>12/7/2018</td>\n",
       "      <td>No</td>\n",
       "    </tr>\n",
       "    <tr>\n",
       "      <th>3</th>\n",
       "      <td>SV004</td>\n",
       "      <td>M</td>\n",
       "      <td>NaN</td>\n",
       "      <td>1</td>\n",
       "      <td>4.25</td>\n",
       "      <td>4.25</td>\n",
       "      <td>5.25</td>\n",
       "      <td>D1</td>\n",
       "      <td>12/7/2018</td>\n",
       "      <td>No</td>\n",
       "    </tr>\n",
       "    <tr>\n",
       "      <th>4</th>\n",
       "      <td>SV005</td>\n",
       "      <td>M</td>\n",
       "      <td>NaN</td>\n",
       "      <td>2NT</td>\n",
       "      <td>4.25</td>\n",
       "      <td>4.50</td>\n",
       "      <td>5.00</td>\n",
       "      <td>A</td>\n",
       "      <td>12/7/2018</td>\n",
       "      <td>No</td>\n",
       "    </tr>\n",
       "    <tr>\n",
       "      <th>5</th>\n",
       "      <td>SV006</td>\n",
       "      <td>M</td>\n",
       "      <td>NaN</td>\n",
       "      <td>1</td>\n",
       "      <td>1.50</td>\n",
       "      <td>4.00</td>\n",
       "      <td>6.00</td>\n",
       "      <td>D1</td>\n",
       "      <td>12/7/2018</td>\n",
       "      <td>No</td>\n",
       "    </tr>\n",
       "    <tr>\n",
       "      <th>6</th>\n",
       "      <td>SV007</td>\n",
       "      <td>F</td>\n",
       "      <td>NaN</td>\n",
       "      <td>2</td>\n",
       "      <td>6.50</td>\n",
       "      <td>6.75</td>\n",
       "      <td>5.25</td>\n",
       "      <td>C</td>\n",
       "      <td>12/7/2018</td>\n",
       "      <td>Yes</td>\n",
       "    </tr>\n",
       "    <tr>\n",
       "      <th>7</th>\n",
       "      <td>SV008</td>\n",
       "      <td>F</td>\n",
       "      <td>NaN</td>\n",
       "      <td>2</td>\n",
       "      <td>3.75</td>\n",
       "      <td>4.50</td>\n",
       "      <td>4.25</td>\n",
       "      <td>D1</td>\n",
       "      <td>12/7/2018</td>\n",
       "      <td>Yes</td>\n",
       "    </tr>\n",
       "    <tr>\n",
       "      <th>8</th>\n",
       "      <td>SV009</td>\n",
       "      <td>F</td>\n",
       "      <td>NaN</td>\n",
       "      <td>1</td>\n",
       "      <td>3.50</td>\n",
       "      <td>3.50</td>\n",
       "      <td>6.75</td>\n",
       "      <td>D1</td>\n",
       "      <td>12/7/2018</td>\n",
       "      <td>Yes</td>\n",
       "    </tr>\n",
       "    <tr>\n",
       "      <th>9</th>\n",
       "      <td>SV0010</td>\n",
       "      <td>F</td>\n",
       "      <td>NaN</td>\n",
       "      <td>1</td>\n",
       "      <td>4.00</td>\n",
       "      <td>4.75</td>\n",
       "      <td>5.50</td>\n",
       "      <td>D1</td>\n",
       "      <td>12/7/2018</td>\n",
       "      <td>Yes</td>\n",
       "    </tr>\n",
       "  </tbody>\n",
       "</table>\n",
       "</div>"
      ],
      "text/plain": [
       "     MSSV GT  DT   KV    M1    M2    M3  KT    NGAYTHI DINHHUONGNGHENGHIEP\n",
       "0   SV001  F NaN  2NT  3.25  3.25  4.50  A1  12/7/2018                  No\n",
       "1   SV002  M NaN    1  6.00  4.00  3.50   C  12/7/2018                 Yes\n",
       "2   SV003  M NaN    1  5.00  6.75  4.00   C  12/7/2018                  No\n",
       "3   SV004  M NaN    1  4.25  4.25  5.25  D1  12/7/2018                  No\n",
       "4   SV005  M NaN  2NT  4.25  4.50  5.00   A  12/7/2018                  No\n",
       "5   SV006  M NaN    1  1.50  4.00  6.00  D1  12/7/2018                  No\n",
       "6   SV007  F NaN    2  6.50  6.75  5.25   C  12/7/2018                 Yes\n",
       "7   SV008  F NaN    2  3.75  4.50  4.25  D1  12/7/2018                 Yes\n",
       "8   SV009  F NaN    1  3.50  3.50  6.75  D1  12/7/2018                 Yes\n",
       "9  SV0010  F NaN    1  4.00  4.75  5.50  D1  12/7/2018                 Yes"
      ]
     },
     "execution_count": 2,
     "metadata": {},
     "output_type": "execute_result"
    }
   ],
   "source": [
    "import pandas as pd\n",
    "df = pd.read_csv('Lesson/data/dulieuxettuyendaihoc.csv',\n",
    "                 header=0,delimiter=',',encoding='utf-8')\n",
    "df.head(10)"
   ]
  },
  {
   "cell_type": "code",
   "execution_count": 3,
   "metadata": {},
   "outputs": [
    {
     "data": {
      "text/html": [
       "<div>\n",
       "<style scoped>\n",
       "    .dataframe tbody tr th:only-of-type {\n",
       "        vertical-align: middle;\n",
       "    }\n",
       "\n",
       "    .dataframe tbody tr th {\n",
       "        vertical-align: top;\n",
       "    }\n",
       "\n",
       "    .dataframe thead th {\n",
       "        text-align: right;\n",
       "    }\n",
       "</style>\n",
       "<table border=\"1\" class=\"dataframe\">\n",
       "  <thead>\n",
       "    <tr style=\"text-align: right;\">\n",
       "      <th></th>\n",
       "      <th>MSSV</th>\n",
       "      <th>GT</th>\n",
       "      <th>DT</th>\n",
       "      <th>KV</th>\n",
       "      <th>M1</th>\n",
       "      <th>M2</th>\n",
       "      <th>M3</th>\n",
       "      <th>KT</th>\n",
       "      <th>NT</th>\n",
       "      <th>NGHE</th>\n",
       "    </tr>\n",
       "  </thead>\n",
       "  <tbody>\n",
       "    <tr>\n",
       "      <th>0</th>\n",
       "      <td>SV001</td>\n",
       "      <td>F</td>\n",
       "      <td>NaN</td>\n",
       "      <td>2NT</td>\n",
       "      <td>3.25</td>\n",
       "      <td>3.25</td>\n",
       "      <td>4.50</td>\n",
       "      <td>A1</td>\n",
       "      <td>12/7/2018</td>\n",
       "      <td>No</td>\n",
       "    </tr>\n",
       "    <tr>\n",
       "      <th>1</th>\n",
       "      <td>SV002</td>\n",
       "      <td>M</td>\n",
       "      <td>NaN</td>\n",
       "      <td>1</td>\n",
       "      <td>6.00</td>\n",
       "      <td>4.00</td>\n",
       "      <td>3.50</td>\n",
       "      <td>C</td>\n",
       "      <td>12/7/2018</td>\n",
       "      <td>Yes</td>\n",
       "    </tr>\n",
       "    <tr>\n",
       "      <th>2</th>\n",
       "      <td>SV003</td>\n",
       "      <td>M</td>\n",
       "      <td>NaN</td>\n",
       "      <td>1</td>\n",
       "      <td>5.00</td>\n",
       "      <td>6.75</td>\n",
       "      <td>4.00</td>\n",
       "      <td>C</td>\n",
       "      <td>12/7/2018</td>\n",
       "      <td>No</td>\n",
       "    </tr>\n",
       "    <tr>\n",
       "      <th>3</th>\n",
       "      <td>SV004</td>\n",
       "      <td>M</td>\n",
       "      <td>NaN</td>\n",
       "      <td>1</td>\n",
       "      <td>4.25</td>\n",
       "      <td>4.25</td>\n",
       "      <td>5.25</td>\n",
       "      <td>D1</td>\n",
       "      <td>12/7/2018</td>\n",
       "      <td>No</td>\n",
       "    </tr>\n",
       "    <tr>\n",
       "      <th>4</th>\n",
       "      <td>SV005</td>\n",
       "      <td>M</td>\n",
       "      <td>NaN</td>\n",
       "      <td>2NT</td>\n",
       "      <td>4.25</td>\n",
       "      <td>4.50</td>\n",
       "      <td>5.00</td>\n",
       "      <td>A</td>\n",
       "      <td>12/7/2018</td>\n",
       "      <td>No</td>\n",
       "    </tr>\n",
       "  </tbody>\n",
       "</table>\n",
       "</div>"
      ],
      "text/plain": [
       "    MSSV GT  DT   KV    M1    M2    M3  KT         NT NGHE\n",
       "0  SV001  F NaN  2NT  3.25  3.25  4.50  A1  12/7/2018   No\n",
       "1  SV002  M NaN    1  6.00  4.00  3.50   C  12/7/2018  Yes\n",
       "2  SV003  M NaN    1  5.00  6.75  4.00   C  12/7/2018   No\n",
       "3  SV004  M NaN    1  4.25  4.25  5.25  D1  12/7/2018   No\n",
       "4  SV005  M NaN  2NT  4.25  4.50  5.00   A  12/7/2018   No"
      ]
     },
     "execution_count": 3,
     "metadata": {},
     "output_type": "execute_result"
    }
   ],
   "source": [
    "df.rename(columns={'NGAYTHI':'NT',\n",
    "                   'DINHHUONGNGHENGHIEP':'NGHE'}, \n",
    "                   inplace=True)\n",
    "df.head(5)"
   ]
  },
  {
   "cell_type": "code",
   "execution_count": 4,
   "metadata": {},
   "outputs": [
    {
     "data": {
      "text/plain": [
       "1     6.00\n",
       "2     5.00\n",
       "6     6.50\n",
       "22    5.00\n",
       "23    6.75\n",
       "24    7.00\n",
       "25    4.75\n",
       "26    5.25\n",
       "27    5.25\n",
       "95    5.25\n",
       "96    5.25\n",
       "97    7.00\n",
       "98    5.00\n",
       "99    5.25\n",
       "Name: M1, dtype: float64"
      ]
     },
     "execution_count": 4,
     "metadata": {},
     "output_type": "execute_result"
    }
   ],
   "source": [
    "dfKhoiC = df.loc[df['KT'] == 'C']\n",
    "dfKhoiC['M1']"
   ]
  },
  {
   "cell_type": "code",
   "execution_count": 5,
   "metadata": {},
   "outputs": [
    {
     "data": {
      "text/plain": [
       "count    14.000000\n",
       "mean      5.660714\n",
       "std       0.812209\n",
       "min       4.750000\n",
       "25%       5.062500\n",
       "50%       5.250000\n",
       "75%       6.375000\n",
       "max       7.000000\n",
       "Name: M1, dtype: float64"
      ]
     },
     "execution_count": 5,
     "metadata": {},
     "output_type": "execute_result"
    }
   ],
   "source": [
    "dfKhoiC['M1'].describe()"
   ]
  },
  {
   "cell_type": "code",
   "execution_count": 10,
   "metadata": {},
   "outputs": [
    {
     "name": "stdout",
     "output_type": "stream",
     "text": [
      "Ttest_1sampResult(statistic=7.650519779016341, pvalue=3.6339826927369557e-06)\n",
      "Phu thuoc\n"
     ]
    }
   ],
   "source": [
    "import scipy.stats as stats\n",
    "print(stats.ttest_1samp(dfKhoiC['M1'], popmean=4.0))\n",
    "\n",
    "if stats.ttest_1samp(dfKhoiC['M1'], popmean=4.0).pvalue > 0.05:\n",
    "    print(\"Khong phu thuoc\")\n",
    "else:\n",
    "    print(\"Phu thuoc\")\n"
   ]
  },
  {
   "cell_type": "markdown",
   "metadata": {},
   "source": [
    "# Bài tập: Sinh viên kiểm tra xem điểm trung bình của môn thi M2 của khối thi C có bằng 5.7 hay không"
   ]
  },
  {
   "cell_type": "code",
   "execution_count": 10,
   "metadata": {},
   "outputs": [
    {
     "data": {
      "text/plain": [
       "Ttest_1sampResult(statistic=-0.1809800377831837, pvalue=0.8591743243227866)"
      ]
     },
     "execution_count": 10,
     "metadata": {},
     "output_type": "execute_result"
    }
   ],
   "source": [
    "stats.ttest_1samp(df[df['KT'] == 'C']['M1'], 5.7)\n",
    "# pvalue=0.8591743243227866 > aplha=0.05\n",
    "# p-value > 0.05 => không có bằng chứng để bác bỏ giả thuyết H0 \n",
    "# => giả thuyết H0 được chấp nhận\n",
    "# H0: M1 = 5.7"
   ]
  },
  {
   "cell_type": "code",
   "execution_count": null,
   "metadata": {},
   "outputs": [],
   "source": []
  },
  {
   "cell_type": "markdown",
   "metadata": {
    "vscode": {
     "languageId": "ini"
    }
   },
   "source": [
    "# Bài tập: Sinh viên về tự tìm hiểu cách thiết lập mức tin cậy hoặc sai lầm\n",
    "\n",
    "## Hướng dẫn:\n",
    "; 1. Tìm hiểu về khái niệm mức tin cậy (confidence level) và sai lầm (error) trong thống kê.\n",
    "; 2. Hiểu rõ cách thiết lập mức tin cậy và mức sai lầm trong các bài kiểm tra giả thuyết.\n",
    "; 3. Áp dụng kiến thức đã học để thiết lập mức tin cậy và mức sai lầm cho các bài kiểm tra thống kê trong dữ liệu đã cho.\n",
    "\n",
    "## Gợi ý:\n",
    "; - Mức tin cậy thường được thiết lập là 95% hoặc 99%.\n",
    "; - Mức sai lầm (alpha) thường được thiết lập là 0.05 hoặc 0.01.\n",
    "; - Sử dụng các hàm thống kê trong thư viện `scipy.stats` để thực hiện các bài kiểm tra giả thuyết với mức tin cậy và mức sai lầm đã thiết lập."
   ]
  },
  {
   "cell_type": "code",
   "execution_count": 11,
   "metadata": {},
   "outputs": [
    {
     "data": {
      "text/plain": [
       "Ttest_1sampResult(statistic=-7.186743391518831, pvalue=7.084381773314355e-06)"
      ]
     },
     "execution_count": 11,
     "metadata": {},
     "output_type": "execute_result"
    }
   ],
   "source": [
    "#Hãy kiểm tra xem có phải điểm trung bình M3\n",
    "# của thí sinh thi khối C có là 6.5 hay không\n",
    "# với mức sai lầm là 10%esis: The mean of M3 is equal to 6.5\")\n",
    "alpha = 0.1\n",
    "stats.ttest_1samp(dfKhoiC['M3'], popmean=6.5)"
   ]
  },
  {
   "cell_type": "code",
   "execution_count": 12,
   "metadata": {},
   "outputs": [
    {
     "data": {
      "text/plain": [
       "(-29.907152266677993, 1.588509177330612e-196)"
      ]
     },
     "execution_count": 12,
     "metadata": {},
     "output_type": "execute_result"
    }
   ],
   "source": [
    "from statsmodels.stats.weightstats import ztest as ztest\n",
    "\n",
    "ztest(df['M1'], value=8.0)\n"
   ]
  },
  {
   "cell_type": "code",
   "execution_count": 13,
   "metadata": {},
   "outputs": [
    {
     "data": {
      "text/plain": [
       "Ttest_1sampResult(statistic=-23.064886971086832, pvalue=1.3248050047438612e-41)"
      ]
     },
     "execution_count": 13,
     "metadata": {},
     "output_type": "execute_result"
    }
   ],
   "source": [
    "#Bài tập: Hãy kiểm tra xem trung bình M2 có bằng 6.7\n",
    "alpha = 0.05\n",
    "stats.ttest_1samp(df['M2'], popmean=6.7)"
   ]
  },
  {
   "cell_type": "code",
   "execution_count": 14,
   "metadata": {},
   "outputs": [
    {
     "data": {
      "text/plain": [
       "Ttest_indResult(statistic=2.5331368604654054, pvalue=0.017676922552296807)"
      ]
     },
     "execution_count": 14,
     "metadata": {},
     "output_type": "execute_result"
    }
   ],
   "source": [
    "dfKhoiC = df.loc[df['KT'] == 'C']\n",
    "stats.ttest_ind(dfKhoiC['M1'], dfKhoiC['M2'], equal_var=True)"
   ]
  },
  {
   "cell_type": "code",
   "execution_count": 19,
   "metadata": {},
   "outputs": [
    {
     "name": "stdout",
     "output_type": "stream",
     "text": [
      "Bác bỏ giả thuyết không: Trung bình M1 không bằng trung bình M3\n"
     ]
    }
   ],
   "source": [
    "# Bài tập: \n",
    "# Suy diễn xem trung bình M1 có bằng trung bình M3 cho\n",
    "# thí sinh thi khối C hay không với mức tin cậy 95%\n",
    "alpha = 1 - 0.95\n",
    "# rel so sánh 2 mẫu độc lập trung bình\n",
    "result = stats.ttest_rel(dfKhoiC['M1'], dfKhoiC['M3'])\n",
    "if result.pvalue < alpha:\n",
    "    print(\"Bác bỏ giả thuyết không: Trung bình M1 không bằng trung bình M3\")\n",
    "else:\n",
    "    print(\"Không bác bỏ giả thuyết không: Trung bình M1 bằng trung bình M3\")\n",
    "\n"
   ]
  },
  {
   "cell_type": "code",
   "execution_count": 20,
   "metadata": {},
   "outputs": [
    {
     "data": {
      "text/plain": [
       "(-2.9004757923795, 0.0037259661678783573)"
      ]
     },
     "execution_count": 20,
     "metadata": {},
     "output_type": "execute_result"
    }
   ],
   "source": [
    "ztest(df['M1'], df['M2'], value=0)"
   ]
  },
  {
   "cell_type": "code",
   "execution_count": 24,
   "metadata": {},
   "outputs": [
    {
     "data": {
      "text/plain": [
       "Ttest_relResult(statistic=-3.9940221931879734, pvalue=0.00012493547596807863)"
      ]
     },
     "execution_count": 24,
     "metadata": {},
     "output_type": "execute_result"
    }
   ],
   "source": [
    "# Bài tập: Kiểm tra trung bình M2 và M3 có bằng nhau không\n",
    "# với mức tin cậy 95%alpha = 0.05\n",
    "stats.ttest_rel(df['M2'], df['M3'])"
   ]
  },
  {
   "cell_type": "code",
   "execution_count": 25,
   "metadata": {},
   "outputs": [],
   "source": [
    "from scipy.stats.stats import pearsonr"
   ]
  },
  {
   "cell_type": "markdown",
   "metadata": {},
   "source": [
    "pearsonr là một hàm trong thư viện scipy.stats của Python, được sử dụng để tính hệ số tương quan Pearson giữa hai tập dữ liệu. Hệ số tương quan Pearson đo lường mức độ tương quan tuyến tính giữa hai biến. Giá trị của nó nằm trong khoảng từ -1 đến 1, trong đó:\n",
    "\n",
    "1: Hai biến có mối tương quan tuyến tính dương hoàn hảo.\n",
    "-1: Hai biến có mối tương quan tuyến tính âm hoàn hảo.\n",
    "0: Không có mối tương quan tuyến tính giữa hai biến."
   ]
  },
  {
   "cell_type": "code",
   "execution_count": 26,
   "metadata": {},
   "outputs": [
    {
     "data": {
      "text/plain": [
       "(0.035154057257850264, 0.7284198928723655)"
      ]
     },
     "execution_count": 26,
     "metadata": {},
     "output_type": "execute_result"
    }
   ],
   "source": [
    "pearsonr(df['M1'], df['M2'])"
   ]
  },
  {
   "cell_type": "code",
   "execution_count": 27,
   "metadata": {},
   "outputs": [
    {
     "data": {
      "text/plain": [
       "(0.018730760164383096, 0.853253434705495)"
      ]
     },
     "execution_count": 27,
     "metadata": {},
     "output_type": "execute_result"
    }
   ],
   "source": [
    "# Bài tập: Sinh viên làm tương tự cho M1 và M3 có tương quan hay không?\n",
    "pearsonr(df['M1'], df['M3'])"
   ]
  },
  {
   "cell_type": "code",
   "execution_count": 29,
   "metadata": {},
   "outputs": [
    {
     "data": {
      "text/plain": [
       "(-0.09152288755408221, 0.36513447674961585)"
      ]
     },
     "execution_count": 29,
     "metadata": {},
     "output_type": "execute_result"
    }
   ],
   "source": [
    "# Bài tập: Sinh viên làm tương tự cho M2 và M3 có tương quan hay không?\n",
    "pearsonr(df['M2'], df['M3'])"
   ]
  },
  {
   "cell_type": "code",
   "execution_count": 33,
   "metadata": {},
   "outputs": [
    {
     "data": {
      "text/html": [
       "<div>\n",
       "<style scoped>\n",
       "    .dataframe tbody tr th:only-of-type {\n",
       "        vertical-align: middle;\n",
       "    }\n",
       "\n",
       "    .dataframe tbody tr th {\n",
       "        vertical-align: top;\n",
       "    }\n",
       "\n",
       "    .dataframe thead th {\n",
       "        text-align: right;\n",
       "    }\n",
       "</style>\n",
       "<table border=\"1\" class=\"dataframe\">\n",
       "  <thead>\n",
       "    <tr style=\"text-align: right;\">\n",
       "      <th>NGHE</th>\n",
       "      <th>No</th>\n",
       "      <th>Yes</th>\n",
       "    </tr>\n",
       "    <tr>\n",
       "      <th>GT</th>\n",
       "      <th></th>\n",
       "      <th></th>\n",
       "    </tr>\n",
       "  </thead>\n",
       "  <tbody>\n",
       "    <tr>\n",
       "      <th>F</th>\n",
       "      <td>23</td>\n",
       "      <td>25</td>\n",
       "    </tr>\n",
       "    <tr>\n",
       "      <th>M</th>\n",
       "      <td>32</td>\n",
       "      <td>20</td>\n",
       "    </tr>\n",
       "  </tbody>\n",
       "</table>\n",
       "</div>"
      ],
      "text/plain": [
       "NGHE  No  Yes\n",
       "GT           \n",
       "F     23   25\n",
       "M     32   20"
      ]
     },
     "execution_count": 33,
     "metadata": {},
     "output_type": "execute_result"
    }
   ],
   "source": [
    "crosdata = pd.crosstab(df['GT'], [df['NGHE']], rownames=['GT'], colnames=['NGHE'])\n",
    "crosdata"
   ]
  },
  {
   "cell_type": "code",
   "execution_count": 35,
   "metadata": {},
   "outputs": [
    {
     "name": "stdout",
     "output_type": "stream",
     "text": [
      "odd ratio is : 0.575\n",
      "p_value is : 0.22763927303454323\n"
     ]
    }
   ],
   "source": [
    "odd_ratio, p_value = stats.fisher_exact(crosdata)\n",
    "print('odd ratio is : ' + str(odd_ratio))\n",
    "print('p_value is : ' + str(p_value))"
   ]
  },
  {
   "cell_type": "markdown",
   "metadata": {},
   "source": [
    "\n",
    "This line calls the fisher_exact function from the stats module (likely from scipy.stats).\n",
    "fisher_exact performs Fisher's Exact Test, which is used to determine if there are nonrandom associations between two categorical variables.\n",
    "crosdata is expected to be a 2x2 contingency table (a matrix of counts).\n",
    "The function returns two values:\n",
    "odd_ratio: The odds ratio calculated from the contingency table.\n",
    "p_value: The p-value for the test, indicating the significance of the association."
   ]
  },
  {
   "cell_type": "code",
   "execution_count": 36,
   "metadata": {},
   "outputs": [],
   "source": [
    "from scipy.stats import chi2_contingency"
   ]
  },
  {
   "cell_type": "code",
   "execution_count": 37,
   "metadata": {},
   "outputs": [
    {
     "data": {
      "text/html": [
       "<div>\n",
       "<style scoped>\n",
       "    .dataframe tbody tr th:only-of-type {\n",
       "        vertical-align: middle;\n",
       "    }\n",
       "\n",
       "    .dataframe tbody tr th {\n",
       "        vertical-align: top;\n",
       "    }\n",
       "\n",
       "    .dataframe thead th {\n",
       "        text-align: right;\n",
       "    }\n",
       "</style>\n",
       "<table border=\"1\" class=\"dataframe\">\n",
       "  <thead>\n",
       "    <tr style=\"text-align: right;\">\n",
       "      <th>KT</th>\n",
       "      <th>A</th>\n",
       "      <th>A1</th>\n",
       "      <th>B</th>\n",
       "      <th>C</th>\n",
       "      <th>D1</th>\n",
       "    </tr>\n",
       "    <tr>\n",
       "      <th>KV</th>\n",
       "      <th></th>\n",
       "      <th></th>\n",
       "      <th></th>\n",
       "      <th></th>\n",
       "      <th></th>\n",
       "    </tr>\n",
       "  </thead>\n",
       "  <tbody>\n",
       "    <tr>\n",
       "      <th>1</th>\n",
       "      <td>29</td>\n",
       "      <td>2</td>\n",
       "      <td>8</td>\n",
       "      <td>8</td>\n",
       "      <td>13</td>\n",
       "    </tr>\n",
       "    <tr>\n",
       "      <th>2</th>\n",
       "      <td>9</td>\n",
       "      <td>0</td>\n",
       "      <td>0</td>\n",
       "      <td>2</td>\n",
       "      <td>8</td>\n",
       "    </tr>\n",
       "    <tr>\n",
       "      <th>2NT</th>\n",
       "      <td>11</td>\n",
       "      <td>4</td>\n",
       "      <td>1</td>\n",
       "      <td>4</td>\n",
       "      <td>1</td>\n",
       "    </tr>\n",
       "  </tbody>\n",
       "</table>\n",
       "</div>"
      ],
      "text/plain": [
       "KT    A  A1  B  C  D1\n",
       "KV                   \n",
       "1    29   2  8  8  13\n",
       "2     9   0  0  2   8\n",
       "2NT  11   4  1  4   1"
      ]
     },
     "execution_count": 37,
     "metadata": {},
     "output_type": "execute_result"
    }
   ],
   "source": [
    "crosdata = pd.crosstab(df['KV'], [df['KT']], rownames=['KV'], colnames=['KT'])\n",
    "crosdata"
   ]
  },
  {
   "cell_type": "code",
   "execution_count": 39,
   "metadata": {},
   "outputs": [
    {
     "data": {
      "image/png": "[encoded data removed]",
      "text/plain": [
       "<Figure size 432x288 with 2 Axes>"
      ]
     },
     "metadata": {
      "needs_background": "light"
     },
     "output_type": "display_data"
    }
   ],
   "source": [
    "import matplotlib.pyplot as plt\n",
    "plt.pcolor(crosdata,cmap='RdBu')\n",
    "plt.colorbar()\n",
    "plt.show()"
   ]
  },
  {
   "cell_type": "code",
   "execution_count": 40,
   "metadata": {},
   "outputs": [],
   "source": [
    "stat, p, dof, expected = chi2_contingency(crosdata)"
   ]
  },
  {
   "cell_type": "markdown",
   "metadata": {
    "vscode": {
     "languageId": "markdown"
    }
   },
   "source": [
    "The chi2_contingency function in Python is used to perform a Chi-square test of independence. This test is used to determine if there is a significant association between two categorical variables. The function is part of the scipy.stats module.\n",
    "\n",
    "Here's a step-by-step explanation of how to use chi2_contingency:\n",
    "\n",
    "Import the necessary module: You need to import the chi2_contingency function from the scipy.stats module.\n",
    "\n",
    "Prepare your data: The data should be in the form of a contingency table (a 2D array), where each cell represents the frequency count of occurrences for the combination of the two categorical variables.\n",
    "\n",
    "Perform the test: Call the chi2_contingency function with the contingency table as the argument. The function will return four values: the Chi-square statistic, the p-value, the degrees of freedom, and the expected frequencies."
   ]
  },
  {
   "cell_type": "code",
   "execution_count": 41,
   "metadata": {},
   "outputs": [
    {
     "name": "stdout",
     "output_type": "stream",
     "text": [
      "p value is 0.02012461887796485\n",
      "Dependent (reject H0)\n"
     ]
    }
   ],
   "source": [
    "alpha = 0.05\n",
    "print(\"p value is \" + str(p))\n",
    "if p <= alpha:\n",
    "    print('Dependent (reject H0)')\n",
    "else:\n",
    "    print('Independent (H0 holds true)')\n"
   ]
  },
  {
   "cell_type": "code",
   "execution_count": 42,
   "metadata": {},
   "outputs": [
    {
     "name": "stdout",
     "output_type": "stream",
     "text": [
      "Chi2 Stat: 14.84003760789475\n",
      "P-Value: 0.005044752209452435\n",
      "Degrees of Freedom: 4\n",
      "Expected Frequencies:\n",
      "[[23.52  2.88  4.32  6.72 10.56]\n",
      " [25.48  3.12  4.68  7.28 11.44]]\n",
      "Dependent (reject H0): There is a relationship between GT and KT\n"
     ]
    }
   ],
   "source": [
    "# Bài tập: GT và KT có mối quan hệ hay không?\n",
    "# Create a contingency table for GT and KT\n",
    "contingency_table = pd.crosstab(df['GT'], df['KT'])\n",
    "\n",
    "# Perform the Chi-square test of independence\n",
    "chi2_stat, p_val, dof, expected = chi2_contingency(contingency_table)\n",
    "\n",
    "# Print the results\n",
    "print(f\"Chi2 Stat: {chi2_stat}\")\n",
    "print(f\"P-Value: {p_val}\")\n",
    "print(f\"Degrees of Freedom: {dof}\")\n",
    "print(\"Expected Frequencies:\")\n",
    "print(expected)\n",
    "\n",
    "# Determine if we reject the null hypothesis\n",
    "if p_val <= alpha:\n",
    "    print(\"Dependent (reject H0): There is a relationship between GT and KT\")\n",
    "else:\n",
    "    print(\"Independent (H0 holds true): There is no relationship between GT and KT\")"
   ]
  },
  {
   "cell_type": "code",
   "execution_count": 43,
   "metadata": {},
   "outputs": [
    {
     "name": "stdout",
     "output_type": "stream",
     "text": [
      "Dependent (reject H0): There is a relationship between KV and KT\n"
     ]
    }
   ],
   "source": [
    "# Bài tập: GT và KT có mối quan hệ hay không?\n",
    "contingency_table = pd.crosstab(df['KV'], df['KT'])\n",
    "chi2_stat, p_val, dof, expected = chi2_contingency(contingency_table)\n",
    "\n",
    "if p_val <= alpha:\n",
    "    print(\"Dependent (reject H0): There is a relationship between KV and KT\")\n",
    "else:\n",
    "    print(\"Independent (H0 holds true): There is no relationship between KV and KT\")"
   ]
  },
  {
   "cell_type": "code",
   "execution_count": 44,
   "metadata": {},
   "outputs": [],
   "source": [
    "import statsmodels.api as sm\n",
    "from statsmodels.formula.api import ols"
   ]
  },
  {
   "cell_type": "code",
   "execution_count": 45,
   "metadata": {},
   "outputs": [
    {
     "data": {
      "text/html": [
       "<div>\n",
       "<style scoped>\n",
       "    .dataframe tbody tr th:only-of-type {\n",
       "        vertical-align: middle;\n",
       "    }\n",
       "\n",
       "    .dataframe tbody tr th {\n",
       "        vertical-align: top;\n",
       "    }\n",
       "\n",
       "    .dataframe thead th {\n",
       "        text-align: right;\n",
       "    }\n",
       "</style>\n",
       "<table border=\"1\" class=\"dataframe\">\n",
       "  <thead>\n",
       "    <tr style=\"text-align: right;\">\n",
       "      <th></th>\n",
       "      <th>df</th>\n",
       "      <th>sum_sq</th>\n",
       "      <th>mean_sq</th>\n",
       "      <th>F</th>\n",
       "      <th>PR(&gt;F)</th>\n",
       "    </tr>\n",
       "  </thead>\n",
       "  <tbody>\n",
       "    <tr>\n",
       "      <th>GT</th>\n",
       "      <td>1.0</td>\n",
       "      <td>1.203141</td>\n",
       "      <td>1.203141</td>\n",
       "      <td>0.590538</td>\n",
       "      <td>0.444059</td>\n",
       "    </tr>\n",
       "    <tr>\n",
       "      <th>Residual</th>\n",
       "      <td>98.0</td>\n",
       "      <td>199.661859</td>\n",
       "      <td>2.037366</td>\n",
       "      <td>NaN</td>\n",
       "      <td>NaN</td>\n",
       "    </tr>\n",
       "  </tbody>\n",
       "</table>\n",
       "</div>"
      ],
      "text/plain": [
       "            df      sum_sq   mean_sq         F    PR(>F)\n",
       "GT         1.0    1.203141  1.203141  0.590538  0.444059\n",
       "Residual  98.0  199.661859  2.037366       NaN       NaN"
      ]
     },
     "execution_count": 45,
     "metadata": {},
     "output_type": "execute_result"
    }
   ],
   "source": [
    "model = ols('M1 ~ GT', data=df).fit()\n",
    "aov_table = sm.stats.anova_lm(model, typ=1)\n",
    "aov_table"
   ]
  },
  {
   "cell_type": "markdown",
   "metadata": {},
   "source": [
    "Explanation\n",
    "Ordinary Least Squares (OLS) Regression:\n",
    "\n",
    "ols('M1 ~ GT', data=df): This line specifies an OLS regression model where M1 is the dependent variable and GT is the independent variable. The data=df argument indicates that the data for these variables is contained in the DataFrame df.\n",
    ".fit(): This method fits the OLS model to the data, estimating the coefficients for the regression equation.\n",
    "ANOVA Table:\n",
    "\n",
    "sm.stats.anova_lm(model, typ=1): This function performs an Analysis of Variance (ANOVA) on the fitted OLS model. The typ=1 argument specifies the type of sums of squares to use (Type I in this case).\n",
    "aov_table: This variable stores the resulting ANOVA table, which includes information such as the sum of squares, degrees of freedom, F-statistic, and p-value for the model terms.\n",
    "ANOVA Table\n",
    "The ANOVA table helps in understanding the significance of the independent variables in explaining the variability of the dependent variable. It typically includes the following columns:\n",
    "\n",
    "Sum of Squares (SS): Measures the variability explained by the model and the residuals.\n",
    "Degrees of Freedom (df): The number of independent values that can vary in the calculation.\n",
    "Mean Square (MS): The average of the sum of squares (SS divided by df).\n",
    "F-statistic: A ratio of the model mean square to the residual mean square, used to determine the significance of the model.\n",
    "p-value: Indicates the probability that the observed F-statistic would occur by chance. A low p-value suggests that the model terms are significant.\n",
    "Example\n",
    "Here's an example of how the ANOVA table might look:\n",
    "\n",
    "Source\tSS\tdf\tMS\tF\tp-value\n",
    "GT\t123.45\t1\t123.45\t10.23\t0.002\n",
    "Residual\t567.89\t98\t5.79\t\t\n",
    "Total\t691.34\t99\t\t\t\n",
    "This table indicates that the independent variable GT is statistically significant in explaining the variability in M1."
   ]
  },
  {
   "cell_type": "code",
   "execution_count": 53,
   "metadata": {},
   "outputs": [
    {
     "data": {
      "text/html": [
       "<div>\n",
       "<style scoped>\n",
       "    .dataframe tbody tr th:only-of-type {\n",
       "        vertical-align: middle;\n",
       "    }\n",
       "\n",
       "    .dataframe tbody tr th {\n",
       "        vertical-align: top;\n",
       "    }\n",
       "\n",
       "    .dataframe thead th {\n",
       "        text-align: right;\n",
       "    }\n",
       "</style>\n",
       "<table border=\"1\" class=\"dataframe\">\n",
       "  <thead>\n",
       "    <tr style=\"text-align: right;\">\n",
       "      <th></th>\n",
       "      <th>df</th>\n",
       "      <th>sum_sq</th>\n",
       "      <th>mean_sq</th>\n",
       "      <th>F</th>\n",
       "      <th>PR(&gt;F)</th>\n",
       "    </tr>\n",
       "  </thead>\n",
       "  <tbody>\n",
       "    <tr>\n",
       "      <th>KV</th>\n",
       "      <td>2.0</td>\n",
       "      <td>6.053398</td>\n",
       "      <td>3.026699</td>\n",
       "      <td>2.790934</td>\n",
       "      <td>0.066299</td>\n",
       "    </tr>\n",
       "    <tr>\n",
       "      <th>Residual</th>\n",
       "      <td>97.0</td>\n",
       "      <td>105.194102</td>\n",
       "      <td>1.084475</td>\n",
       "      <td>NaN</td>\n",
       "      <td>NaN</td>\n",
       "    </tr>\n",
       "  </tbody>\n",
       "</table>\n",
       "</div>"
      ],
      "text/plain": [
       "            df      sum_sq   mean_sq         F    PR(>F)\n",
       "KV         2.0    6.053398  3.026699  2.790934  0.066299\n",
       "Residual  97.0  105.194102  1.084475       NaN       NaN"
      ]
     },
     "execution_count": 53,
     "metadata": {},
     "output_type": "execute_result"
    }
   ],
   "source": [
    "# Bài tập: Điểm M2 có phụ thuộc vào khu vực hay không\n",
    "alpha = 0.05\n",
    "model = ols('M2 ~ KV', data=df).fit()\n",
    "aov_table = sm.stats.anova_lm(model, typ=1)\n",
    "aov_table"
   ]
  },
  {
   "cell_type": "code",
   "execution_count": 54,
   "metadata": {},
   "outputs": [
    {
     "name": "stdout",
     "output_type": "stream",
     "text": [
      "            df      sum_sq   mean_sq         F    PR(>F)\n",
      "KV         2.0    6.053398  3.026699  2.790934  0.066299\n",
      "Residual  97.0  105.194102  1.084475       NaN       NaN\n",
      "Independent (H0 holds true): M2 scores do not depend on the region (KV)\n"
     ]
    }
   ],
   "source": [
    "# Perform ANOVA test to check if M2 scores depend on the region (KV)\n",
    "model = ols('M2 ~ KV', data=df).fit()\n",
    "aov_table = sm.stats.anova_lm(model, typ=1)\n",
    "print(aov_table)\n",
    "\n",
    "# Determine if we reject the null hypothesis\n",
    "if aov_table['PR(>F)'][0] <= alpha:\n",
    "    print(\"Dependent (reject H0): M2 scores depend on the region (KV)\")\n",
    "else:\n",
    "    print(\"Independent (H0 holds true): M2 scores do not depend on the region (KV)\")"
   ]
  },
  {
   "cell_type": "code",
   "execution_count": 55,
   "metadata": {},
   "outputs": [
    {
     "name": "stdout",
     "output_type": "stream",
     "text": [
      "            df      sum_sq   mean_sq         F   PR(>F)\n",
      "KT         4.0    3.967636  0.991909  0.911814  0.46041\n",
      "Residual  95.0  103.344864  1.087841       NaN      NaN\n",
      "Independent (H0 holds true): M3 scores do not depend on the exam group (KT)\n"
     ]
    }
   ],
   "source": [
    "# Bài tập: Điểm M3 có phụ thuộc khối thi hay không\n",
    "model = ols('M3 ~ KT', data=df).fit()\n",
    "aov_table = sm.stats.anova_lm(model, typ=1)\n",
    "print(aov_table)\n",
    "if aov_table['PR(>F)'][0] <= alpha:\n",
    "    print(\"Dependent (reject H0): M3 scores depend on the exam group (KT)\")\n",
    "else:\n",
    "    print(\"Independent (H0 holds true): M3 scores do not depend on the exam group (KT)\")"
   ]
  },
  {
   "cell_type": "code",
   "execution_count": 57,
   "metadata": {},
   "outputs": [
    {
     "name": "stdout",
     "output_type": "stream",
     "text": [
      "            df      sum_sq   mean_sq         F    PR(>F)\n",
      "GT         1.0    1.203141  1.203141  0.598960  0.440917\n",
      "KV         2.0    3.493206  1.746603  0.869512  0.422500\n",
      "GT:KV      2.0    7.349290  3.674645  1.829350  0.166186\n",
      "Residual  94.0  188.819363  2.008717       NaN       NaN\n"
     ]
    }
   ],
   "source": [
    "model = ols('M1 ~ GT + KV + GT:KV',data=df).fit()\n",
    "result = sm.stats.anova_lm(model, type=2)\n",
    "print(result)"
   ]
  },
  {
   "cell_type": "code",
   "execution_count": 59,
   "metadata": {},
   "outputs": [
    {
     "name": "stdout",
     "output_type": "stream",
     "text": [
      "            df     sum_sq   mean_sq         F    PR(>F)\n",
      "KV         2.0   6.053398  3.026699  2.987203  0.055626\n",
      "KT         4.0  10.061984  2.515496  2.482671  0.049539\n",
      "KV:KT      8.0   8.688324  1.086040  1.071869  0.390293\n",
      "Residual  87.0  88.150282  1.013222       NaN       NaN\n",
      "Independent (H0 holds true): M2 scores do not depend on the region (KV) and exam group (KT)\n"
     ]
    }
   ],
   "source": [
    "# Bài tập: Phân tích xem M2 có phụ thuộc trên nhóm KV theo từng loại KT hay không\n",
    "model = ols('M2 ~ KV + KT + KV:KT', data=df).fit()\n",
    "result = sm.stats.anova_lm(model, type=2)\n",
    "print(result)\n",
    "\n",
    "if result['PR(>F)'][2] <= alpha:\n",
    "    print(\"Dependent (reject H0): M2 scores depend on the region (KV) and exam group (KT)\")\n",
    "else:\n",
    "    print(\"Independent (H0 holds true): M2 scores do not depend on the region (KV) and exam group (KT)\")"
   ]
  },
  {
   "cell_type": "code",
   "execution_count": 60,
   "metadata": {},
   "outputs": [
    {
     "name": "stdout",
     "output_type": "stream",
     "text": [
      "                            OLS Regression Results                            \n",
      "==============================================================================\n",
      "Dep. Variable:                      y   R-squared:                       0.000\n",
      "Model:                            OLS   Adj. R-squared:                 -0.010\n",
      "Method:                 Least Squares   F-statistic:                   0.03439\n",
      "Date:                Mon, 13 Jan 2025   Prob (F-statistic):              0.853\n",
      "Time:                        18:09:25   Log-Likelihood:                -145.41\n",
      "No. Observations:                 100   AIC:                             294.8\n",
      "Df Residuals:                      98   BIC:                             300.0\n",
      "Df Model:                           1                                         \n",
      "Covariance Type:            nonrobust                                         \n",
      "==============================================================================\n",
      "                 coef    std err          t      P>|t|      [0.025      0.975]\n",
      "------------------------------------------------------------------------------\n",
      "const          4.8238      0.295     16.338      0.000       4.238       5.410\n",
      "x1             0.0137      0.074      0.185      0.853      -0.133       0.160\n",
      "==============================================================================\n",
      "Omnibus:                        6.663   Durbin-Watson:                   1.749\n",
      "Prob(Omnibus):                  0.036   Jarque-Bera (JB):                6.173\n",
      "Skew:                           0.586   Prob(JB):                       0.0457\n",
      "Kurtosis:                       3.327   Cond. No.                         11.9\n",
      "==============================================================================\n",
      "\n",
      "Warnings:\n",
      "[1] Standard Errors assume that the covariance matrix of the errors is correctly specified.\n"
     ]
    }
   ],
   "source": [
    "X_with_constant = sm.add_constant(df[[\"M1\"]].values)\n",
    "y = df[['M3']].values\n",
    "result = sm.OLS(y, X_with_constant).fit()\n",
    "print(result.summary())"
   ]
  },
  {
   "cell_type": "code",
   "execution_count": 66,
   "metadata": {},
   "outputs": [
    {
     "name": "stdout",
     "output_type": "stream",
     "text": [
      "Dự báo điểm M3 cho thí sinh có điểm M1 = 6.7 là: 4.91552473054042\n",
      "4.875\n",
      "3.74\n"
     ]
    }
   ],
   "source": [
    "# New data point for prediction\n",
    "new_data = np.array([[1, 6.7]])\n",
    "\n",
    "# Predict the M3 score using the linear regression model\n",
    "predicted_M3 = result.predict(new_data)\n",
    "\n",
    "print(f\"Dự báo điểm M3 cho thí sinh có điểm M1 = 6.7 là: {predicted_M3[0]}\")\n",
    "print(df['M3'].mean())\n",
    "print(df['M1'].mean())"
   ]
  },
  {
   "cell_type": "code",
   "execution_count": null,
   "metadata": {},
   "outputs": [],
   "source": []
  }
 ],
 "metadata": {
  "kernelspec": {
   "display_name": "base",
   "language": "python",
   "name": "python3"
  },
  "language_info": {
   "codemirror_mode": {
    "name": "ipython",
    "version": 3
   },
   "file_extension": ".py",
   "mimetype": "text/x-python",
   "name": "python",
   "nbconvert_exporter": "python",
   "pygments_lexer": "ipython3",
   "version": "3.7.1"
  }
 },
 "nbformat": 4,
 "nbformat_minor": 2
}
